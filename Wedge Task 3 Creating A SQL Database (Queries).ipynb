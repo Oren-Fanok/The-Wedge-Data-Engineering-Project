{
 "cells": [
  {
   "cell_type": "markdown",
   "id": "8fd4c97b",
   "metadata": {},
   "source": [
    "# Task 3: Creating Queries"
   ]
  },
  {
   "cell_type": "markdown",
   "id": "fd38eee9",
   "metadata": {},
   "source": [
    "This code file is a copy of the SQL queries I performed in Google Big Query to pull the required dataset for each table."
   ]
  },
  {
   "cell_type": "markdown",
   "id": "d7e35e7b",
   "metadata": {},
   "source": [
    "# Table 1 Query"
   ]
  },
  {
   "cell_type": "code",
   "execution_count": null,
   "id": "5fc206b1",
   "metadata": {},
   "outputs": [],
   "source": [
    "SELECT\n",
    "EXTRACT(date from datetime) as date,\n",
    "EXTRACT(HOUR from datetime) as hour,\n",
    "sum(total) as total_spend,\n",
    "COUNT(DISTINCT Concat\n",
    "(cast(EXTRACT(date from datetime) as string), \n",
    "cast(register_no as string),\n",
    "cast(emp_no as string),\n",
    " cast(trans_no as string))) as num_trans,\n",
    "SUM(CASE WHEN trans_status in ('V','R') THEN -1\n",
    "ELSE 1 END) AS items\n",
    "FROM `umt-msba.wedge_transactions.transArchive_20*`\n",
    "WHERE department not in (0,15)\n",
    "AND (trans_status is NULL or\n",
    "        trans_status in (' ', 'V', 'R'))\n",
    "GROUP BY date, hour\n",
    "ORDER BY date, hour;"
   ]
  },
  {
   "cell_type": "markdown",
   "id": "e7fc6590",
   "metadata": {},
   "source": [
    "# Table 2 Query"
   ]
  },
  {
   "cell_type": "code",
   "execution_count": null,
   "id": "eadf62d4",
   "metadata": {},
   "outputs": [],
   "source": [
    "SELECT \n",
    "distinct(card_no) as card_no,\n",
    "EXTRACT(YEAR from datetime) as year,\n",
    "EXTRACT(MONTH from datetime) as month,\n",
    "sum(total) as sales,\n",
    "COUNT(DISTINCT Concat\n",
    "(cast(EXTRACT(date from datetime) as string), \n",
    "cast(register_no as string),\n",
    "cast(emp_no as string),\n",
    " cast(trans_no as string))) as transactions,\n",
    "SUM(CASE WHEN trans_status in ('V','R') THEN -1\n",
    "ELSE 1 END) AS items\n",
    " FROM `umt-msba.wedge_transactions.transArchive_20*`\n",
    " GROUP BY card_no,year,month\n",
    " order by year, month;"
   ]
  },
  {
   "cell_type": "markdown",
   "id": "ce667ff6",
   "metadata": {},
   "source": [
    "# Table 3 Query"
   ]
  },
  {
   "cell_type": "code",
   "execution_count": null,
   "id": "b0fefedc",
   "metadata": {},
   "outputs": [],
   "source": [
    "SELECT\n",
    " trans.upc,\n",
    " trans.description,\n",
    " trans.department as dept_number,\n",
    " Dept.dept_name,\n",
    " extract(YEAR from trans.datetime) as year,\n",
    " extract (MONTH from trans.datetime) as month,\n",
    "sum(total) as sales,\n",
    "COUNT(DISTINCT Concat\n",
    "(cast(EXTRACT(date from datetime) as string), \n",
    "cast(register_no as string),\n",
    "cast(emp_no as string),\n",
    " cast(trans_no as string))) as transactions,\n",
    "SUM(CASE WHEN trans_status in ('V','R') THEN -1\n",
    "ELSE 1 END) AS items\n",
    "FROM `umt-msba.wedge_transactions.transArchive_20*` as trans\n",
    "JOIN `umt-msba.wedge_example.departments` AS Dept ON Dept.department = trans.department\n",
    "group by description, upc, year, month, trans.department, Dept.dept_name"
   ]
  }
 ],
 "metadata": {
  "kernelspec": {
   "display_name": "Python 3 (ipykernel)",
   "language": "python",
   "name": "python3"
  },
  "language_info": {
   "codemirror_mode": {
    "name": "ipython",
    "version": 3
   },
   "file_extension": ".py",
   "mimetype": "text/x-python",
   "name": "python",
   "nbconvert_exporter": "python",
   "pygments_lexer": "ipython3",
   "version": "3.9.13"
  }
 },
 "nbformat": 4,
 "nbformat_minor": 5
}
