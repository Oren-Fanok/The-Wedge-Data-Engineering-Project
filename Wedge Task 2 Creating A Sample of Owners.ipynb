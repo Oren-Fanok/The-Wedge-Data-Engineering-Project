{
 "cells": [
  {
   "cell_type": "markdown",
   "id": "75c84aed",
   "metadata": {},
   "source": [
    "# Wedge Task 2: Creating A Sample of Owners"
   ]
  },
  {
   "cell_type": "code",
   "execution_count": 2,
   "id": "1e2524f2",
   "metadata": {},
   "outputs": [],
   "source": [
    "import os\n",
    "import re\n",
    "import datetime \n",
    "import random\n",
    "\n",
    "import pandas as pd\n",
    "import numpy as np\n",
    "import matplotlib.pyplot as plt\n",
    "import pandas_gbq\n",
    "import janitor\n",
    "from random import sample\n",
    "\n",
    "# Do our imports for the code\n",
    "from google.cloud import bigquery\n",
    "from google.oauth2 import service_account"
   ]
  },
  {
   "cell_type": "markdown",
   "id": "fedae347",
   "metadata": {},
   "source": [
    "## Initialize connection to GBQ"
   ]
  },
  {
   "cell_type": "code",
   "execution_count": 3,
   "id": "ffc1235f",
   "metadata": {},
   "outputs": [],
   "source": [
    "#establish Connection to GBQ\n",
    "\n",
    "# These first two values will be different on your machine. \n",
    "service_path = \"C:\\\\Users\\\\ofano\\\\Documents\\\\MSBA Folder\\\\MSBA Folder\\\\\"\n",
    "service_file = 'msba-project-2022-75bb8251ef6f.json' \n",
    "gbq_proj_id = 'msba-project-2022' \n",
    "\n",
    "# And this should stay the same. \n",
    "private_key =service_path + service_file"
   ]
  },
  {
   "cell_type": "code",
   "execution_count": 4,
   "id": "1857efbb",
   "metadata": {},
   "outputs": [],
   "source": [
    "# Now we pass in our credentials so that Python has permission to access our project.\n",
    "credentials = service_account.Credentials.from_service_account_file(service_path + service_file)"
   ]
  },
  {
   "cell_type": "code",
   "execution_count": 5,
   "id": "ad117215",
   "metadata": {},
   "outputs": [],
   "source": [
    "# And finally we establish our connection\n",
    "client = bigquery.Client(credentials = credentials, project=gbq_proj_id)"
   ]
  },
  {
   "cell_type": "code",
   "execution_count": 1,
   "id": "2df70b5d",
   "metadata": {},
   "outputs": [],
   "source": [
    "#let's make sure it works\n",
    "\n",
    "for item in client.list_datasets() : \n",
    "    print(item.full_dataset_id)"
   ]
  },
  {
   "cell_type": "markdown",
   "id": "0bc6aed5",
   "metadata": {},
   "source": [
    "## Query the data set in GBQ"
   ]
  },
  {
   "cell_type": "code",
   "execution_count": 7,
   "id": "0a09e8db",
   "metadata": {},
   "outputs": [],
   "source": [
    "#now that we have connected to our GBQ data, we need to build a list of owners, and print them out.\n",
    "\n",
    "owner_list = []\n",
    "\n",
    "query = \"\"\"\n",
    "        SELECT DISTINCT(card_no)\n",
    "        FROM `msba-project-2022.wedge_dataset.transArchive_20*`\n",
    "        WHERE card_no != 3\"\"\"\n",
    "\n",
    "results = client.query(\n",
    "    query,\n",
    "    location=\"US\",\n",
    ")\n",
    "\n",
    "#list comprehension that joins on tabs and converts all items to strings.\n",
    "for row in results :\n",
    "    owner_list.append(row.values()[0])\n"
   ]
  },
  {
   "cell_type": "code",
   "execution_count": 9,
   "id": "44ba3ab1",
   "metadata": {},
   "outputs": [],
   "source": [
    "# this section creates our random sample of owners\n",
    "random.seed(10)\n",
    "owner_sample = random.choices(owner_list, k=400)"
   ]
  },
  {
   "cell_type": "markdown",
   "id": "cd492cdf",
   "metadata": {},
   "source": [
    "## Query owner information from GBQ"
   ]
  },
  {
   "cell_type": "code",
   "execution_count": 11,
   "id": "2c48c01f",
   "metadata": {},
   "outputs": [],
   "source": [
    "#Now let's get all the data related to our sample of owners\n",
    "\n",
    "query = \"\"\"     \n",
    "SELECT DISTINCT *\n",
    "FROM `msba-project-2022.wedge_dataset.transArchive_201007_201009`\n",
    "WHERE card_no in (\n",
    "\"\"\"\n",
    "query = query +\",\".join([str(element) for element in owner_sample])+\")\"\n"
   ]
  },
  {
   "cell_type": "markdown",
   "id": "fccf874d",
   "metadata": {},
   "source": [
    "## Export Data"
   ]
  },
  {
   "cell_type": "code",
   "execution_count": 13,
   "id": "73bacba0",
   "metadata": {},
   "outputs": [],
   "source": [
    "# use this line to write out the file to a pandas dataframe\n",
    "extracted_owners = client.query(query).to_dataframe()\n"
   ]
  },
  {
   "cell_type": "code",
   "execution_count": 14,
   "id": "50c933b3",
   "metadata": {},
   "outputs": [],
   "source": [
    "#this will write out our file, use this\n",
    "extracted_owners.to_csv(\"output_file_task_2.csv\")"
   ]
  }
 ],
 "metadata": {
  "kernelspec": {
   "display_name": "Python 3 (ipykernel)",
   "language": "python",
   "name": "python3"
  },
  "language_info": {
   "codemirror_mode": {
    "name": "ipython",
    "version": 3
   },
   "file_extension": ".py",
   "mimetype": "text/x-python",
   "name": "python",
   "nbconvert_exporter": "python",
   "pygments_lexer": "ipython3",
   "version": "3.9.13"
  }
 },
 "nbformat": 4,
 "nbformat_minor": 5
}
