{
 "cells": [
  {
   "cell_type": "code",
   "execution_count": 1,
   "id": "17565a29",
   "metadata": {},
   "outputs": [],
   "source": [
    "import sqlite3\n",
    "import os\n",
    "import pandas as pd"
   ]
  },
  {
   "cell_type": "code",
   "execution_count": 2,
   "id": "f1fd5836",
   "metadata": {},
   "outputs": [],
   "source": [
    "##First I need to create a database\n",
    "\n",
    "db_1 = sqlite3.connect(\"Task_3_Database.db\")"
   ]
  },
  {
   "cell_type": "code",
   "execution_count": 3,
   "id": "7d896cc5",
   "metadata": {},
   "outputs": [],
   "source": [
    "# create my cursor to interact\n",
    "\n",
    "cur_1 = db_1.cursor()"
   ]
  },
  {
   "cell_type": "markdown",
   "id": "5164954e",
   "metadata": {},
   "source": [
    "# Create our Tables"
   ]
  },
  {
   "cell_type": "code",
   "execution_count": 4,
   "id": "d651328b",
   "metadata": {},
   "outputs": [
    {
     "data": {
      "text/plain": [
       "<sqlite3.Cursor at 0x284bb4ecb90>"
      ]
     },
     "execution_count": 4,
     "metadata": {},
     "output_type": "execute_result"
    }
   ],
   "source": [
    "##create a table with matching columns for sales_by_date_hour\n",
    "\n",
    "cur_1.execute('''DROP TABLE IF EXISTS sales_by_date_hour''')\n",
    "cur_1.execute('''CREATE TABLE sales_by_date_hour (\n",
    "    date DATE,\n",
    "    hour INTEGER,\n",
    "    total_spend FLOAT,\n",
    "    num_trans INTEGER,\n",
    "    items INTEGER)''')"
   ]
  },
  {
   "cell_type": "code",
   "execution_count": 5,
   "id": "1fb74c37",
   "metadata": {},
   "outputs": [
    {
     "data": {
      "text/plain": [
       "<sqlite3.Cursor at 0x284bb4ecb90>"
      ]
     },
     "execution_count": 5,
     "metadata": {},
     "output_type": "execute_result"
    }
   ],
   "source": [
    "##create a table with matching columns for sales_by_owner_year_month\n",
    "\n",
    "cur_1.execute('''DROP TABLE IF EXISTS sales_by_owner_year_month''')\n",
    "cur_1.execute('''CREATE TABLE sales_by_owner_year_month (\n",
    "    card_no FLOAT,\n",
    "    year INTEGER,\n",
    "    month INTEGER,\n",
    "    sales FLOAT,\n",
    "    transactions INTEGER,\n",
    "    items INTEGER)''')"
   ]
  },
  {
   "cell_type": "code",
   "execution_count": 6,
   "id": "632a622a",
   "metadata": {},
   "outputs": [
    {
     "data": {
      "text/plain": [
       "<sqlite3.Cursor at 0x284bb4ecb90>"
      ]
     },
     "execution_count": 6,
     "metadata": {},
     "output_type": "execute_result"
    }
   ],
   "source": [
    "##create a table with matching columns for sales_by_product_description\n",
    "\n",
    "cur_1.execute('''DROP TABLE IF EXISTS sales_by_product_description''')\n",
    "cur_1.execute('''CREATE TABLE sales_by_product_description (\n",
    "    upc STRING,\n",
    "    description STRING,\n",
    "    dept_number FLOAT,\n",
    "    dept_name STRING,\n",
    "    year INTEGER,\n",
    "    month INTEGER,\n",
    "    sales FLOAT,\n",
    "    transactions INTEGER,\n",
    "    items INTEGER)''')"
   ]
  },
  {
   "cell_type": "code",
   "execution_count": 7,
   "id": "1a89c8be",
   "metadata": {},
   "outputs": [],
   "source": [
    "db_1.commit()"
   ]
  },
  {
   "cell_type": "markdown",
   "id": "cf3c8672",
   "metadata": {},
   "source": [
    "# Read in Files and Fill Tables "
   ]
  },
  {
   "cell_type": "code",
   "execution_count": 8,
   "id": "6754051a",
   "metadata": {},
   "outputs": [],
   "source": [
    "## now let's fill sales_by_date_hour table with information from the date hour csv file first read in the file\n",
    "#then create a list of lists with each line of the file\n",
    "\n",
    "#owner_prod = []\n",
    "with open(\"Sales by date hour Wedge Task 1.csv\",'r') as infile :\n",
    "    next(infile)\n",
    "    \n",
    "    for line in infile :\n",
    "        line = line.strip().split(\",\")\n",
    "        #owner_prod.append(line)\n",
    "        \n",
    "        #now insert those lines into our table\n",
    "        cur_1.execute('''\n",
    "            INSERT INTO sales_by_date_hour(date,hour,total_spend,num_trans,items)VALUES(?,?,?,?,?)''',line)"
   ]
  },
  {
   "cell_type": "code",
   "execution_count": 9,
   "id": "ee4580ad",
   "metadata": {},
   "outputs": [],
   "source": [
    "db_1.commit()"
   ]
  },
  {
   "cell_type": "code",
   "execution_count": 10,
   "id": "81b9d0e1",
   "metadata": {},
   "outputs": [],
   "source": [
    "## now let's fill sales_by_date_hour table with information from the date hour csv file first read in the file\n",
    "owner_prod2 = []\n",
    "with open(\"Wedge 3 Table 2.csv\",'r') as infile :\n",
    "    next(infile)\n",
    "    \n",
    "    for line in infile :\n",
    "        line = line.strip().split(\",\")\n",
    "        owner_prod2.append(line)\n",
    "        \n",
    "        #now insert those lines into our table\n",
    "        cur_1.execute('''\n",
    "            INSERT INTO sales_by_owner_year_month (card_no,year,month,sales,transactions,items)VALUES(?,?,?,?,?,?)''',line)"
   ]
  },
  {
   "cell_type": "code",
   "execution_count": 13,
   "id": "bbac91e5",
   "metadata": {},
   "outputs": [],
   "source": [
    "db_1.commit()"
   ]
  },
  {
   "cell_type": "code",
   "execution_count": 14,
   "id": "1fd304eb",
   "metadata": {},
   "outputs": [],
   "source": [
    "## now let's fill sales_by_date_hour table with information from the date hour csv file first read in the file\n",
    "owner_prod3 = []\n",
    "with open(\"Wedge 3 Table 3.csv\",'r') as infile :\n",
    "    next(infile)\n",
    "    \n",
    "    for line in infile :\n",
    "        line = line.strip().split(\",\")\n",
    "        owner_prod3.append(line)\n",
    "        \n",
    "        #now insert those lines into our table\n",
    "        cur_1.execute('''\n",
    "            INSERT INTO sales_by_product_description(upc,description,dept_number,dept_name,year,month,sales,transactions,items\n",
    "            )VALUES(?,?,?,?,?,?,?,?,?)''',line)"
   ]
  },
  {
   "cell_type": "code",
   "execution_count": 15,
   "id": "218ca36b",
   "metadata": {},
   "outputs": [],
   "source": [
    "db_1.commit()"
   ]
  },
  {
   "cell_type": "code",
   "execution_count": null,
   "id": "f549d3e0",
   "metadata": {},
   "outputs": [],
   "source": [
    "##Task Done\n"
   ]
  }
 ],
 "metadata": {
  "kernelspec": {
   "display_name": "Python 3 (ipykernel)",
   "language": "python",
   "name": "python3"
  },
  "language_info": {
   "codemirror_mode": {
    "name": "ipython",
    "version": 3
   },
   "file_extension": ".py",
   "mimetype": "text/x-python",
   "name": "python",
   "nbconvert_exporter": "python",
   "pygments_lexer": "ipython3",
   "version": "3.9.12"
  }
 },
 "nbformat": 4,
 "nbformat_minor": 5
}
